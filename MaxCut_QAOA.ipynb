{
  "nbformat": 4,
  "nbformat_minor": 0,
  "metadata": {
    "colab": {
      "name": "QOSF QAOA.ipynb",
      "provenance": [],
      "collapsed_sections": []
    },
    "kernelspec": {
      "name": "python3",
      "display_name": "Python 3"
    }
  },
  "cells": [
    {
      "cell_type": "markdown",
      "metadata": {
        "id": "ffCij9KLrDSK"
      },
      "source": [
        "# *QOSF Mentorship Program*\r\n",
        "\r\n",
        "**Candidate: Wasiq Malik**"
      ]
    },
    {
      "cell_type": "markdown",
      "metadata": {
        "id": "ITKC_Pipg2Jv"
      },
      "source": [
        "# The Max-Cut Problem\r\n",
        "This is the first problem that was solved using [QAOA](https://arxiv.org/abs/1411.4028) was MaxCut. \r\n",
        "\r\n",
        "The problem is defined as follows: \r\n",
        "Suppose we have a graph $\\mathcal{G}= \\{\\mathcal{V},\\mathcal{E}\\}$ where $\\mathcal{E}$ are the edges and $\\mathcal{V}$ the vertices. Given a partition of these vertices into a subset $\\mathcal{P}_0$ and its complement $\\mathcal{P}_1 = \\mathcal{V}\\setminus \\mathcal{P}_0$, the corresponding cut set $C\\subseteq \\mathcal{E}$ is the subset of edges that have one endpoint in $\\mathcal{P}_0$ and the other endpoint in $\\mathcal{P}_1$. The maximum cut (MaxCut) for a given graph $\\mathcal{G}$ is the choice of $\\mathcal{P}_0$ and $\\mathcal{P}_1$ which yields the largest possible cut set. \r\n",
        "\r\n",
        "The difficulty of finding this partition is well known to be an NP-Complete problem in general."
      ]
    },
    {
      "cell_type": "markdown",
      "metadata": {
        "id": "ooPJcCegnSgj"
      },
      "source": [
        "**Setting things up**"
      ]
    },
    {
      "cell_type": "code",
      "metadata": {
        "id": "6cxDQkOViDLv"
      },
      "source": [
        "# useful additional packages \r\n",
        "import matplotlib.pyplot as plt\r\n",
        "import matplotlib.axes as axes\r\n",
        "%matplotlib inline\r\n",
        "import numpy as np\r\n",
        "import networkx as nx\r\n",
        "import random\r\n",
        "from scipy.optimize import minimize\r\n",
        "try:\r\n",
        "    import cirq\r\n",
        "except ImportError:\r\n",
        "    print(\"installing cirq...\")\r\n",
        "    !pip install --quiet cirq\r\n",
        "    import cirq\r\n",
        "    print(\"installed cirq.\")\r\n"
      ],
      "execution_count": 8,
      "outputs": []
    },
    {
      "cell_type": "code",
      "metadata": {
        "id": "tE7y2hTdjVN2"
      },
      "source": [
        "# Utility function to print a graph\r\n",
        "def draw_graph(G, colors, pos):\r\n",
        "    default_axes = plt.axes(frameon=True)\r\n",
        "    nx.draw_networkx(G, node_color=colors, node_size=600, alpha=.8, ax=default_axes, pos=pos)\r\n",
        "    edge_labels = nx.get_edge_attributes(G, 'weight')\r\n",
        "    nx.draw_networkx_edge_labels(G, pos=pos, edge_labels=edge_labels)"
      ],
      "execution_count": 2,
      "outputs": []
    },
    {
      "cell_type": "markdown",
      "metadata": {
        "id": "ljkOajatnxi7"
      },
      "source": [
        "# Classical Brute-Force Solution\r\n",
        "The Brute-Force Algorithm would check all possible cuts of the weighted graph and pick the cut which has the maximum value.\r\n",
        "\r\n",
        "A cut can be represented by a bit string of length $\\mathcal{N}$, where $\\mathcal{N}$ is the total verticies in the graph. A bit being 0 represents that node being in partition $\\mathcal{P}_0$ whereas, a bit having the value 1 represents the $\\mathcal{P}_1$ partition.\r\n",
        "\r\n",
        "This encoding of the problem presents $\\mathcal{2}^n$ possible bit strings, we can calculate the cut value for each possibility and find out which configuration had the maximum cut value. This will be our optimal solution.\r\n",
        "\r\n",
        "The running time of this Algorithm is $\\mathcal{O(2}^n)$."
      ]
    },
    {
      "cell_type": "code",
      "metadata": {
        "colab": {
          "base_uri": "https://localhost:8080/",
          "height": 248
        },
        "id": "ViowxKsgPQmO",
        "outputId": "268a9334-f31c-4dc2-ab1a-f4933625a8e1"
      },
      "source": [
        "n=5 # Number of nodes in graph\r\n",
        "\r\n",
        "# create a graph of n nodes\r\n",
        "G=nx.Graph()\r\n",
        "G.add_nodes_from(np.arange(0,n,1))  \r\n",
        "\r\n",
        "# edge are in the form (vertex u, vertex v, edge weight)\r\n",
        "edges=[(0,1,1.0),(0,2,5.0),(1,2,7.0),(1,3,2.0),(2,3,4.0), (3,4,3.0)]\r\n",
        "\r\n",
        "G.add_weighted_edges_from(edges)    # create weighted edges in the graph\r\n",
        "\r\n",
        "# setup an example graph\r\n",
        "colors = ['r' for node in G.nodes()]\r\n",
        "pos = nx.spring_layout(G)\r\n",
        "draw_graph(G, colors, pos)"
      ],
      "execution_count": 3,
      "outputs": [
        {
          "output_type": "display_data",
          "data": {
            "image/png": "[encoded data removed]",
            "text/plain": [
              "<Figure size 432x288 with 1 Axes>"
            ]
          },
          "metadata": {
            "tags": []
          }
        }
      ]
    },
    {
      "cell_type": "code",
      "metadata": {
        "id": "wJiFcyWHQ6aX"
      },
      "source": [
        "# Computing the weight matrix for the example graph\r\n",
        "weight_matrix = np.zeros([n,n])\r\n",
        "for i in range(n):\r\n",
        "    for j in range(n):\r\n",
        "        edge = G.get_edge_data(i,j,default=0)\r\n",
        "        if edge != 0:\r\n",
        "            weight_matrix[i,j] = edge['weight'] "
      ],
      "execution_count": 4,
      "outputs": []
    },
    {
      "cell_type": "code",
      "metadata": {
        "colab": {
          "base_uri": "https://localhost:8080/",
          "height": 826
        },
        "id": "-6wZsYZbQ_lm",
        "outputId": "ac8472b5-3b0b-4eee-cc62-81eaf1cefb59"
      },
      "source": [
        "# running the brute force algorithm to find the max cut for the example graph\r\n",
        "best_cost_brute = best_sol_brute = 0\r\n",
        "for bit_string in range(2**n):\r\n",
        "    solution = [int(t) for t in reversed(list(bin(bit_string)[2:].zfill(n)))] # generate bit strings representing the possible cuts\r\n",
        "    cost = 0\r\n",
        "    # calculate the cut value for current cut set\r\n",
        "    for i in range(n):\r\n",
        "        for j in range(n):\r\n",
        "            cost = cost + weight_matrix[i,j]*solution[i]*(1-solution[j])\r\n",
        "    # if better solution found, save it\r\n",
        "    if best_cost_brute < cost:\r\n",
        "        best_cost_brute = cost\r\n",
        "        best_sol_brute = solution \r\n",
        "    print('bit string = ' + str(solution) + ' cut value = ' + str(cost))\r\n",
        "\r\n",
        "# display the max cut solution\r\n",
        "colors = ['r' if best_sol_brute[i] == 0 else 'c' for i in range(n)]\r\n",
        "draw_graph(G, colors, pos)\r\n",
        "print('\\nBest solution = ' + str(best_sol_brute) + ' cost = ' + str(best_cost_brute))  "
      ],
      "execution_count": 5,
      "outputs": [
        {
          "output_type": "stream",
          "text": [
            "bit string = [0, 0, 0, 0, 0] cut value = 0.0\n",
            "bit string = [1, 0, 0, 0, 0] cut value = 6.0\n",
            "bit string = [0, 1, 0, 0, 0] cut value = 10.0\n",
            "bit string = [1, 1, 0, 0, 0] cut value = 14.0\n",
            "bit string = [0, 0, 1, 0, 0] cut value = 16.0\n",
            "bit string = [1, 0, 1, 0, 0] cut value = 12.0\n",
            "bit string = [0, 1, 1, 0, 0] cut value = 12.0\n",
            "bit string = [1, 1, 1, 0, 0] cut value = 6.0\n",
            "bit string = [0, 0, 0, 1, 0] cut value = 9.0\n",
            "bit string = [1, 0, 0, 1, 0] cut value = 15.0\n",
            "bit string = [0, 1, 0, 1, 0] cut value = 15.0\n",
            "bit string = [1, 1, 0, 1, 0] cut value = 19.0\n",
            "bit string = [0, 0, 1, 1, 0] cut value = 17.0\n",
            "bit string = [1, 0, 1, 1, 0] cut value = 13.0\n",
            "bit string = [0, 1, 1, 1, 0] cut value = 9.0\n",
            "bit string = [1, 1, 1, 1, 0] cut value = 3.0\n",
            "bit string = [0, 0, 0, 0, 1] cut value = 3.0\n",
            "bit string = [1, 0, 0, 0, 1] cut value = 9.0\n",
            "bit string = [0, 1, 0, 0, 1] cut value = 13.0\n",
            "bit string = [1, 1, 0, 0, 1] cut value = 17.0\n",
            "bit string = [0, 0, 1, 0, 1] cut value = 19.0\n",
            "bit string = [1, 0, 1, 0, 1] cut value = 15.0\n",
            "bit string = [0, 1, 1, 0, 1] cut value = 15.0\n",
            "bit string = [1, 1, 1, 0, 1] cut value = 9.0\n",
            "bit string = [0, 0, 0, 1, 1] cut value = 6.0\n",
            "bit string = [1, 0, 0, 1, 1] cut value = 12.0\n",
            "bit string = [0, 1, 0, 1, 1] cut value = 12.0\n",
            "bit string = [1, 1, 0, 1, 1] cut value = 16.0\n",
            "bit string = [0, 0, 1, 1, 1] cut value = 14.0\n",
            "bit string = [1, 0, 1, 1, 1] cut value = 10.0\n",
            "bit string = [0, 1, 1, 1, 1] cut value = 6.0\n",
            "bit string = [1, 1, 1, 1, 1] cut value = 0.0\n",
            "\n",
            "Best solution = [1, 1, 0, 1, 0] cost = 19.0\n"
          ],
          "name": "stdout"
        },
        {
          "output_type": "display_data",
          "data": {
            "image/png": "[encoded data removed]",
            "text/plain": [
              "<Figure size 432x288 with 1 Axes>"
            ]
          },
          "metadata": {
            "tags": []
          }
        }
      ]
    },
    {
      "cell_type": "markdown",
      "metadata": {
        "id": "jfMOU7v8lVqL"
      },
      "source": [
        "# Quantum Solution using QAOA"
      ]
    },
    {
      "cell_type": "markdown",
      "metadata": {
        "id": "N05f_8f0my5k"
      },
      "source": [
        "**Creating Sample Graph**"
      ]
    },
    {
      "cell_type": "code",
      "metadata": {
        "colab": {
          "base_uri": "https://localhost:8080/",
          "height": 248
        },
        "id": "C4GcUpxASz0O",
        "outputId": "e9cbf17f-9dbb-4f43-9861-844640055a36"
      },
      "source": [
        "n=5 # Number of nodes in graph\r\n",
        "\r\n",
        "qubits = [cirq.GridQubit(0, i) for i in range(0, n)]\r\n",
        "\r\n",
        "G=nx.Graph()\r\n",
        "G.add_nodes_from(qubits)\r\n",
        "edges=[(qubits[0],qubits[1],1.0),(qubits[0],qubits[2],5.0),(qubits[1],qubits[2],7.0),(qubits[1],qubits[3],2.0),(qubits[2],qubits[3],4.0), (qubits[3],qubits[4],3.0)]\r\n",
        "\r\n",
        "G.add_weighted_edges_from(edges)\r\n",
        "\r\n",
        "colors = ['r' for node in G.nodes()]\r\n",
        "pos = nx.spring_layout(G)\r\n",
        "draw_graph(G, colors, pos)"
      ],
      "execution_count": 9,
      "outputs": [
        {
          "output_type": "display_data",
          "data": {
            "image/png": "[encoded data removed]",
            "text/plain": [
              "<Figure size 432x288 with 1 Axes>"
            ]
          },
          "metadata": {
            "tags": []
          }
        }
      ]
    },
    {
      "cell_type": "markdown",
      "metadata": {
        "id": "2kfC79Wrm1rC"
      },
      "source": [
        "**Create a General QAOA Circuit of depth $\\mathcal{m}$**\r\n"
      ]
    },
    {
      "cell_type": "code",
      "metadata": {
        "colab": {
          "base_uri": "https://localhost:8080/",
          "height": 271
        },
        "id": "LGc16dE1TdCM",
        "outputId": "d9ed4a59-d136-4c97-e9e8-afec0aadd9ad"
      },
      "source": [
        "from cirq.contrib.svg import SVGCircuit\r\n",
        "import sympy\r\n",
        "\r\n",
        "# Depth for the QAOA \r\n",
        "m=2 \r\n",
        "# Number of qubits\r\n",
        "n=5\r\n",
        "# repitions count for running the circuit\r\n",
        "rep=10_000\r\n",
        "\r\n",
        "def create_circuit(params):\r\n",
        "    m = len(params)//2\r\n",
        "    alphas = params[0:m]\r\n",
        "    betas = params[m::]\r\n",
        "\r\n",
        "    # Prepare equal superposition of qubits\r\n",
        "    qaoa_circuit = cirq.Circuit(cirq.H.on_each(G.nodes()))\r\n",
        "\r\n",
        "    # iterate over depth factor for qaoa\r\n",
        "    for i in range(m):\r\n",
        "        # insert the cost unitary\r\n",
        "        for u, v, w in G.edges(data=True):\r\n",
        "            qaoa_circuit.append(cirq.ZZ(u, v) ** (alphas[i] * w['weight']))\r\n",
        "        # insert the mixer unitary\r\n",
        "        qaoa_circuit.append(cirq.Moment(cirq.X(qubit) ** betas[i] for qubit in G.nodes()))\r\n",
        "\r\n",
        "    # apply measurements at the end of the circuit\r\n",
        "    for qubit in G.nodes():\r\n",
        "        qaoa_circuit.append(cirq.measure(qubit))\r\n",
        "\r\n",
        "    return qaoa_circuit\r\n",
        "\r\n",
        "# create a circuit with random parameters\r\n",
        "qaoa_circuit = create_circuit(params=[float(random.randint(-314, 314))/float(100) for i in range(0, m*2)])\r\n",
        "# display the qaoa circuit\r\n",
        "SVGCircuit(qaoa_circuit)\r\n"
      ],
      "execution_count": 41,
      "outputs": [
        {
          "output_type": "execute_result",
          "data": {
            "text/plain": [
              "<cirq.contrib.svg.svg.SVGCircuit at 0x7fe00c7b5160>"
            ],
            "image/svg+xml": "<svg xmlns=\"http://www.w3.org/2000/svg\" width=\"1489.808671875\" height=\"250.0\"><line x1=\"34.7588671875\" x2=\"1459.808671875\" y1=\"25.0\" y2=\"25.0\" stroke=\"#1967d2\" stroke-width=\"1\" /><line x1=\"34.7588671875\" x2=\"1459.808671875\" y1=\"75.0\" y2=\"75.0\" stroke=\"#1967d2\" stroke-width=\"1\" /><line x1=\"34.7588671875\" x2=\"1459.808671875\" y1=\"125.0\" y2=\"125.0\" stroke=\"#1967d2\" stroke-width=\"1\" /><line x1=\"34.7588671875\" x2=\"1459.808671875\" y1=\"175.0\" y2=\"175.0\" stroke=\"#1967d2\" stroke-width=\"1\" /><line x1=\"34.7588671875\" x2=\"1459.808671875\" y1=\"225.0\" y2=\"225.0\" stroke=\"#1967d2\" stroke-width=\"1\" /><line x1=\"174.76580078125\" x2=\"174.76580078125\" y1=\"25.0\" y2=\"75.0\" stroke=\"black\" stroke-width=\"3\" /><line x1=\"263.16685546875\" x2=\"263.16685546875\" y1=\"25.0\" y2=\"125.0\" stroke=\"black\" stroke-width=\"3\" /><line x1=\"354.1801953125\" x2=\"354.1801953125\" y1=\"75.0\" y2=\"125.0\" stroke=\"black\" stroke-width=\"3\" /><line x1=\"449.9008984375\" x2=\"449.9008984375\" y1=\"75.0\" y2=\"175.0\" stroke=\"black\" stroke-width=\"3\" /><line x1=\"545.5351953125\" x2=\"545.5351953125\" y1=\"125.0\" y2=\"175.0\" stroke=\"black\" stroke-width=\"3\" /><line x1=\"638.64361328125\" x2=\"638.64361328125\" y1=\"175.0\" y2=\"225.0\" stroke=\"black\" stroke-width=\"3\" /><line x1=\"810.2944335937501\" x2=\"810.2944335937501\" y1=\"25.0\" y2=\"75.0\" stroke=\"black\" stroke-width=\"3\" /><line x1=\"896.1532031250001\" x2=\"896.1532031250001\" y1=\"25.0\" y2=\"125.0\" stroke=\"black\" stroke-width=\"3\" /><line x1=\"982.3204101562501\" x2=\"982.3204101562501\" y1=\"75.0\" y2=\"125.0\" stroke=\"black\" stroke-width=\"3\" /><line x1=\"1075.467109375\" x2=\"1075.467109375\" y1=\"75.0\" y2=\"175.0\" stroke=\"black\" stroke-width=\"3\" /><line x1=\"1170.83125\" x2=\"1170.83125\" y1=\"125.0\" y2=\"175.0\" stroke=\"black\" stroke-width=\"3\" /><line x1=\"1263.66951171875\" x2=\"1263.66951171875\" y1=\"175.0\" y2=\"225.0\" stroke=\"black\" stroke-width=\"3\" /><rect x=\"10.0\" y=\"5.0\" width=\"49.517734375\" height=\"40\" stroke=\"black\" fill=\"white\" stroke-width=\"0\" /><text x=\"34.7588671875\" y=\"25.0\" dominant-baseline=\"middle\" text-anchor=\"middle\" font-size=\"14px\" font-family=\"Arial\">(0, 0): </text><rect x=\"10.0\" y=\"55.0\" width=\"49.517734375\" height=\"40\" stroke=\"black\" fill=\"white\" stroke-width=\"0\" /><text x=\"34.7588671875\" y=\"75.0\" dominant-baseline=\"middle\" text-anchor=\"middle\" font-size=\"14px\" font-family=\"Arial\">(0, 1): </text><rect x=\"10.0\" y=\"105.0\" width=\"49.517734375\" height=\"40\" stroke=\"black\" fill=\"white\" stroke-width=\"0\" /><text x=\"34.7588671875\" y=\"125.0\" dominant-baseline=\"middle\" text-anchor=\"middle\" font-size=\"14px\" font-family=\"Arial\">(0, 2): </text><rect x=\"10.0\" y=\"155.0\" width=\"49.517734375\" height=\"40\" stroke=\"black\" fill=\"white\" stroke-width=\"0\" /><text x=\"34.7588671875\" y=\"175.0\" dominant-baseline=\"middle\" text-anchor=\"middle\" font-size=\"14px\" font-family=\"Arial\">(0, 3): </text><rect x=\"10.0\" y=\"205.0\" width=\"49.517734375\" height=\"40\" stroke=\"black\" fill=\"white\" stroke-width=\"0\" /><text x=\"34.7588671875\" y=\"225.0\" dominant-baseline=\"middle\" text-anchor=\"middle\" font-size=\"14px\" font-family=\"Arial\">(0, 4): </text><rect x=\"79.517734375\" y=\"5.0\" width=\"40\" height=\"40\" stroke=\"black\" fill=\"white\" stroke-width=\"1\" /><text x=\"99.517734375\" y=\"25.0\" dominant-baseline=\"middle\" text-anchor=\"middle\" font-size=\"18px\" font-family=\"Arial\">H</text><rect x=\"79.517734375\" y=\"55.0\" width=\"40\" height=\"40\" stroke=\"black\" fill=\"white\" stroke-width=\"1\" /><text x=\"99.517734375\" y=\"75.0\" dominant-baseline=\"middle\" text-anchor=\"middle\" font-size=\"18px\" font-family=\"Arial\">H</text><rect x=\"79.517734375\" y=\"105.0\" width=\"40\" height=\"40\" stroke=\"black\" fill=\"white\" stroke-width=\"1\" /><text x=\"99.517734375\" y=\"125.0\" dominant-baseline=\"middle\" text-anchor=\"middle\" font-size=\"18px\" font-family=\"Arial\">H</text><rect x=\"79.517734375\" y=\"155.0\" width=\"40\" height=\"40\" stroke=\"black\" fill=\"white\" stroke-width=\"1\" /><text x=\"99.517734375\" y=\"175.0\" dominant-baseline=\"middle\" text-anchor=\"middle\" font-size=\"18px\" font-family=\"Arial\">H</text><rect x=\"79.517734375\" y=\"205.0\" width=\"40\" height=\"40\" stroke=\"black\" fill=\"white\" stroke-width=\"1\" /><text x=\"99.517734375\" y=\"225.0\" dominant-baseline=\"middle\" text-anchor=\"middle\" font-size=\"18px\" font-family=\"Arial\">H</text><rect x=\"139.51773437499997\" y=\"5.0\" width=\"70.49613281250001\" height=\"40\" stroke=\"black\" fill=\"white\" stroke-width=\"1\" /><text x=\"174.76580078125\" y=\"25.0\" dominant-baseline=\"middle\" text-anchor=\"middle\" font-size=\"14px\" font-family=\"Arial\">ZZ</text><rect x=\"139.51773437499997\" y=\"55.0\" width=\"70.49613281250001\" height=\"40\" stroke=\"black\" fill=\"white\" stroke-width=\"1\" /><text x=\"174.76580078125\" y=\"75.0\" dominant-baseline=\"middle\" text-anchor=\"middle\" font-size=\"14px\" font-family=\"Arial\">ZZ^0.78</text><rect x=\"230.01386718749998\" y=\"5.0\" width=\"66.3059765625\" height=\"40\" stroke=\"black\" fill=\"white\" stroke-width=\"1\" /><text x=\"263.16685546875\" y=\"25.0\" dominant-baseline=\"middle\" text-anchor=\"middle\" font-size=\"14px\" font-family=\"Arial\">ZZ</text><rect x=\"230.01386718749998\" y=\"105.0\" width=\"66.3059765625\" height=\"40\" stroke=\"black\" fill=\"white\" stroke-width=\"1\" /><text x=\"263.16685546875\" y=\"125.0\" dominant-baseline=\"middle\" text-anchor=\"middle\" font-size=\"14px\" font-family=\"Arial\">ZZ^-0.1</text><rect x=\"316.31984375\" y=\"55.0\" width=\"75.72070312500001\" height=\"40\" stroke=\"black\" fill=\"white\" stroke-width=\"1\" /><text x=\"354.1801953125\" y=\"75.0\" dominant-baseline=\"middle\" text-anchor=\"middle\" font-size=\"14px\" font-family=\"Arial\">ZZ</text><rect x=\"316.31984375\" y=\"105.0\" width=\"75.72070312500001\" height=\"40\" stroke=\"black\" fill=\"white\" stroke-width=\"1\" /><text x=\"354.1801953125\" y=\"125.0\" dominant-baseline=\"middle\" text-anchor=\"middle\" font-size=\"14px\" font-family=\"Arial\">ZZ^-0.54</text><rect x=\"412.040546875\" y=\"55.0\" width=\"75.72070312500001\" height=\"40\" stroke=\"black\" fill=\"white\" stroke-width=\"1\" /><text x=\"449.9008984375\" y=\"75.0\" dominant-baseline=\"middle\" text-anchor=\"middle\" font-size=\"14px\" font-family=\"Arial\">ZZ</text><rect x=\"412.040546875\" y=\"155.0\" width=\"75.72070312500001\" height=\"40\" stroke=\"black\" fill=\"white\" stroke-width=\"1\" /><text x=\"449.9008984375\" y=\"175.0\" dominant-baseline=\"middle\" text-anchor=\"middle\" font-size=\"14px\" font-family=\"Arial\">ZZ^-0.44</text><rect x=\"507.76125\" y=\"105.0\" width=\"75.54789062500001\" height=\"40\" stroke=\"black\" fill=\"white\" stroke-width=\"1\" /><text x=\"545.5351953125\" y=\"125.0\" dominant-baseline=\"middle\" text-anchor=\"middle\" font-size=\"14px\" font-family=\"Arial\">ZZ</text><rect x=\"507.76125\" y=\"155.0\" width=\"75.54789062500001\" height=\"40\" stroke=\"black\" fill=\"white\" stroke-width=\"1\" /><text x=\"545.5351953125\" y=\"175.0\" dominant-baseline=\"middle\" text-anchor=\"middle\" font-size=\"14px\" font-family=\"Arial\">ZZ^-0.88</text><rect x=\"603.309140625\" y=\"155.0\" width=\"70.6689453125\" height=\"40\" stroke=\"black\" fill=\"white\" stroke-width=\"1\" /><text x=\"638.64361328125\" y=\"175.0\" dominant-baseline=\"middle\" text-anchor=\"middle\" font-size=\"14px\" font-family=\"Arial\">ZZ</text><rect x=\"603.309140625\" y=\"205.0\" width=\"70.6689453125\" height=\"40\" stroke=\"black\" fill=\"white\" stroke-width=\"1\" /><text x=\"638.64361328125\" y=\"225.0\" dominant-baseline=\"middle\" text-anchor=\"middle\" font-size=\"14px\" font-family=\"Arial\">ZZ^0.34</text><rect x=\"693.9780859375\" y=\"5.0\" width=\"61.2903125\" height=\"40\" stroke=\"black\" fill=\"white\" stroke-width=\"1\" /><text x=\"724.6232421875001\" y=\"25.0\" dominant-baseline=\"middle\" text-anchor=\"middle\" font-size=\"14px\" font-family=\"Arial\">X^0.24</text><rect x=\"693.9780859375\" y=\"55.0\" width=\"61.2903125\" height=\"40\" stroke=\"black\" fill=\"white\" stroke-width=\"1\" /><text x=\"724.6232421875001\" y=\"75.0\" dominant-baseline=\"middle\" text-anchor=\"middle\" font-size=\"14px\" font-family=\"Arial\">X^0.24</text><rect x=\"693.9780859375\" y=\"105.0\" width=\"61.2903125\" height=\"40\" stroke=\"black\" fill=\"white\" stroke-width=\"1\" /><text x=\"724.6232421875001\" y=\"125.0\" dominant-baseline=\"middle\" text-anchor=\"middle\" font-size=\"14px\" font-family=\"Arial\">X^0.24</text><rect x=\"693.9780859375\" y=\"155.0\" width=\"61.2903125\" height=\"40\" stroke=\"black\" fill=\"white\" stroke-width=\"1\" /><text x=\"724.6232421875001\" y=\"175.0\" dominant-baseline=\"middle\" text-anchor=\"middle\" font-size=\"14px\" font-family=\"Arial\">X^0.24</text><rect x=\"693.9780859375\" y=\"205.0\" width=\"61.2903125\" height=\"40\" stroke=\"black\" fill=\"white\" stroke-width=\"1\" /><text x=\"724.6232421875001\" y=\"225.0\" dominant-baseline=\"middle\" text-anchor=\"middle\" font-size=\"14px\" font-family=\"Arial\">X^0.24</text><rect x=\"775.2683984375001\" y=\"5.0\" width=\"70.0520703125\" height=\"40\" stroke=\"black\" fill=\"white\" stroke-width=\"1\" /><text x=\"810.2944335937501\" y=\"25.0\" dominant-baseline=\"middle\" text-anchor=\"middle\" font-size=\"14px\" font-family=\"Arial\">ZZ</text><rect x=\"775.2683984375001\" y=\"55.0\" width=\"70.0520703125\" height=\"40\" stroke=\"black\" fill=\"white\" stroke-width=\"1\" /><text x=\"810.2944335937501\" y=\"75.0\" dominant-baseline=\"middle\" text-anchor=\"middle\" font-size=\"14px\" font-family=\"Arial\">ZZ^0.92</text><rect x=\"865.3204687500001\" y=\"5.0\" width=\"61.66546875\" height=\"40\" stroke=\"black\" fill=\"white\" stroke-width=\"1\" /><text x=\"896.1532031250001\" y=\"25.0\" dominant-baseline=\"middle\" text-anchor=\"middle\" font-size=\"14px\" font-family=\"Arial\">ZZ</text><rect x=\"865.3204687500001\" y=\"105.0\" width=\"61.66546875\" height=\"40\" stroke=\"black\" fill=\"white\" stroke-width=\"1\" /><text x=\"896.1532031250001\" y=\"125.0\" dominant-baseline=\"middle\" text-anchor=\"middle\" font-size=\"14px\" font-family=\"Arial\">ZZ^0.6</text><rect x=\"946.9859375000001\" y=\"55.0\" width=\"70.6689453125\" height=\"40\" stroke=\"black\" fill=\"white\" stroke-width=\"1\" /><text x=\"982.3204101562501\" y=\"75.0\" dominant-baseline=\"middle\" text-anchor=\"middle\" font-size=\"14px\" font-family=\"Arial\">ZZ</text><rect x=\"946.9859375000001\" y=\"105.0\" width=\"70.6689453125\" height=\"40\" stroke=\"black\" fill=\"white\" stroke-width=\"1\" /><text x=\"982.3204101562501\" y=\"125.0\" dominant-baseline=\"middle\" text-anchor=\"middle\" font-size=\"14px\" font-family=\"Arial\">ZZ^0.44</text><rect x=\"1037.6548828125\" y=\"55.0\" width=\"75.62445312500002\" height=\"40\" stroke=\"black\" fill=\"white\" stroke-width=\"1\" /><text x=\"1075.467109375\" y=\"75.0\" dominant-baseline=\"middle\" text-anchor=\"middle\" font-size=\"14px\" font-family=\"Arial\">ZZ</text><rect x=\"1037.6548828125\" y=\"155.0\" width=\"75.62445312500002\" height=\"40\" stroke=\"black\" fill=\"white\" stroke-width=\"1\" /><text x=\"1075.467109375\" y=\"175.0\" dominant-baseline=\"middle\" text-anchor=\"middle\" font-size=\"14px\" font-family=\"Arial\">ZZ^-0.16</text><rect x=\"1133.2793359375\" y=\"105.0\" width=\"75.103828125\" height=\"40\" stroke=\"black\" fill=\"white\" stroke-width=\"1\" /><text x=\"1170.83125\" y=\"125.0\" dominant-baseline=\"middle\" text-anchor=\"middle\" font-size=\"14px\" font-family=\"Arial\">ZZ</text><rect x=\"1133.2793359375\" y=\"155.0\" width=\"75.103828125\" height=\"40\" stroke=\"black\" fill=\"white\" stroke-width=\"1\" /><text x=\"1170.83125\" y=\"175.0\" dominant-baseline=\"middle\" text-anchor=\"middle\" font-size=\"14px\" font-family=\"Arial\">ZZ^-0.32</text><rect x=\"1228.3831640625\" y=\"155.0\" width=\"70.5726953125\" height=\"40\" stroke=\"black\" fill=\"white\" stroke-width=\"1\" /><text x=\"1263.66951171875\" y=\"175.0\" dominant-baseline=\"middle\" text-anchor=\"middle\" font-size=\"14px\" font-family=\"Arial\">ZZ</text><rect x=\"1228.3831640625\" y=\"205.0\" width=\"70.5726953125\" height=\"40\" stroke=\"black\" fill=\"white\" stroke-width=\"1\" /><text x=\"1263.66951171875\" y=\"225.0\" dominant-baseline=\"middle\" text-anchor=\"middle\" font-size=\"14px\" font-family=\"Arial\">ZZ^0.76</text><rect x=\"1318.955859375\" y=\"5.0\" width=\"60.8528125\" height=\"40\" stroke=\"black\" fill=\"white\" stroke-width=\"1\" /><text x=\"1349.382265625\" y=\"25.0\" dominant-baseline=\"middle\" text-anchor=\"middle\" font-size=\"14px\" font-family=\"Arial\">X^0.25</text><rect x=\"1318.955859375\" y=\"55.0\" width=\"60.8528125\" height=\"40\" stroke=\"black\" fill=\"white\" stroke-width=\"1\" /><text x=\"1349.382265625\" y=\"75.0\" dominant-baseline=\"middle\" text-anchor=\"middle\" font-size=\"14px\" font-family=\"Arial\">X^0.25</text><rect x=\"1318.955859375\" y=\"105.0\" width=\"60.8528125\" height=\"40\" stroke=\"black\" fill=\"white\" stroke-width=\"1\" /><text x=\"1349.382265625\" y=\"125.0\" dominant-baseline=\"middle\" text-anchor=\"middle\" font-size=\"14px\" font-family=\"Arial\">X^0.25</text><rect x=\"1318.955859375\" y=\"155.0\" width=\"60.8528125\" height=\"40\" stroke=\"black\" fill=\"white\" stroke-width=\"1\" /><text x=\"1349.382265625\" y=\"175.0\" dominant-baseline=\"middle\" text-anchor=\"middle\" font-size=\"14px\" font-family=\"Arial\">X^0.25</text><rect x=\"1318.955859375\" y=\"205.0\" width=\"60.8528125\" height=\"40\" stroke=\"black\" fill=\"white\" stroke-width=\"1\" /><text x=\"1349.382265625\" y=\"225.0\" dominant-baseline=\"middle\" text-anchor=\"middle\" font-size=\"14px\" font-family=\"Arial\">X^0.25</text><rect x=\"1399.808671875\" y=\"5.0\" width=\"40\" height=\"40\" stroke=\"black\" fill=\"white\" stroke-width=\"1\" /><text x=\"1419.808671875\" y=\"25.0\" dominant-baseline=\"middle\" text-anchor=\"middle\" font-size=\"18px\" font-family=\"Arial\">M</text><rect x=\"1399.808671875\" y=\"55.0\" width=\"40\" height=\"40\" stroke=\"black\" fill=\"white\" stroke-width=\"1\" /><text x=\"1419.808671875\" y=\"75.0\" dominant-baseline=\"middle\" text-anchor=\"middle\" font-size=\"18px\" font-family=\"Arial\">M</text><rect x=\"1399.808671875\" y=\"105.0\" width=\"40\" height=\"40\" stroke=\"black\" fill=\"white\" stroke-width=\"1\" /><text x=\"1419.808671875\" y=\"125.0\" dominant-baseline=\"middle\" text-anchor=\"middle\" font-size=\"18px\" font-family=\"Arial\">M</text><rect x=\"1399.808671875\" y=\"155.0\" width=\"40\" height=\"40\" stroke=\"black\" fill=\"white\" stroke-width=\"1\" /><text x=\"1419.808671875\" y=\"175.0\" dominant-baseline=\"middle\" text-anchor=\"middle\" font-size=\"18px\" font-family=\"Arial\">M</text><rect x=\"1399.808671875\" y=\"205.0\" width=\"40\" height=\"40\" stroke=\"black\" fill=\"white\" stroke-width=\"1\" /><text x=\"1419.808671875\" y=\"225.0\" dominant-baseline=\"middle\" text-anchor=\"middle\" font-size=\"18px\" font-family=\"Arial\">M</text></svg>"
          },
          "metadata": {
            "tags": []
          },
          "execution_count": 41
        }
      ]
    },
    {
      "cell_type": "markdown",
      "metadata": {
        "id": "NNcby9RdnINw"
      },
      "source": [
        "**Basic QAOA Circuit of Depth 1**\r\n",
        "\r\n",
        "For the purpose of this example to run QAOA on weighted graphs, the weighted cost hamiltonian unitary has been implemented.\r\n",
        "\r\n",
        "For simplicity sake, running QAOA on depth 1 with only 2 parameters.\r\n"
      ]
    },
    {
      "cell_type": "code",
      "metadata": {
        "colab": {
          "base_uri": "https://localhost:8080/",
          "height": 271
        },
        "id": "ZhRjY4aLRPCq",
        "outputId": "130bb4da-8c8d-45a1-cdf3-4f84375b8926"
      },
      "source": [
        "from cirq.contrib.svg import SVGCircuit\r\n",
        "import sympy\r\n",
        "\r\n",
        "# Symbols for the rotation angles in the QAOA circuit.\r\n",
        "alpha = sympy.Symbol('alpha')\r\n",
        "beta = sympy.Symbol('beta')\r\n",
        "\r\n",
        "qaoa_circuit = cirq.Circuit(\r\n",
        "    # Prepare equal superposition of qubits\r\n",
        "    cirq.H.on_each(G.nodes()),\r\n",
        "\r\n",
        "    # Do ZZ operations between neighbors u, v in the graph. Here, u is a qubit,\r\n",
        "    # v is its neighboring qubit, and w is the weight between these qubits.\r\n",
        "    (cirq.ZZ(u, v) ** (alpha * w['weight']) for (u, v, w) in G.edges(data=True)),\r\n",
        "\r\n",
        "    # Apply X operations along all nodes of the graph. Again working_graph's\r\n",
        "    # nodes are the working_qubits. Note here we use a moment\r\n",
        "    # which will force all of the gates into the same line.\r\n",
        "    cirq.Moment(cirq.X(qubit) ** beta for qubit in G.nodes()),\r\n",
        "\r\n",
        "    # All relevant things can be computed in the computational basis.\r\n",
        "    (cirq.measure(qubit) for qubit in G.nodes()),\r\n",
        ")\r\n",
        "SVGCircuit(qaoa_circuit)"
      ],
      "execution_count": 46,
      "outputs": [
        {
          "output_type": "execute_result",
          "data": {
            "text/plain": [
              "<cirq.contrib.svg.svg.SVGCircuit at 0x7fe00c811320>"
            ],
            "image/svg+xml": "<svg xmlns=\"http://www.w3.org/2000/svg\" width=\"1139.171015625\" height=\"250.0\"><line x1=\"34.7588671875\" x2=\"1109.171015625\" y1=\"25.0\" y2=\"25.0\" stroke=\"#1967d2\" stroke-width=\"1\" /><line x1=\"34.7588671875\" x2=\"1109.171015625\" y1=\"75.0\" y2=\"75.0\" stroke=\"#1967d2\" stroke-width=\"1\" /><line x1=\"34.7588671875\" x2=\"1109.171015625\" y1=\"125.0\" y2=\"125.0\" stroke=\"#1967d2\" stroke-width=\"1\" /><line x1=\"34.7588671875\" x2=\"1109.171015625\" y1=\"175.0\" y2=\"175.0\" stroke=\"#1967d2\" stroke-width=\"1\" /><line x1=\"34.7588671875\" x2=\"1109.171015625\" y1=\"225.0\" y2=\"225.0\" stroke=\"#1967d2\" stroke-width=\"1\" /><line x1=\"198.55541015625002\" x2=\"198.55541015625002\" y1=\"25.0\" y2=\"75.0\" stroke=\"black\" stroke-width=\"3\" /><line x1=\"336.6307617187501\" x2=\"336.6307617187501\" y1=\"25.0\" y2=\"125.0\" stroke=\"black\" stroke-width=\"3\" /><line x1=\"474.7061132812501\" x2=\"474.7061132812501\" y1=\"75.0\" y2=\"125.0\" stroke=\"black\" stroke-width=\"3\" /><line x1=\"612.7814648437502\" x2=\"612.7814648437502\" y1=\"75.0\" y2=\"175.0\" stroke=\"black\" stroke-width=\"3\" /><line x1=\"750.8568164062501\" x2=\"750.8568164062501\" y1=\"125.0\" y2=\"175.0\" stroke=\"black\" stroke-width=\"3\" /><line x1=\"888.9321679687503\" x2=\"888.9321679687503\" y1=\"175.0\" y2=\"225.0\" stroke=\"black\" stroke-width=\"3\" /><rect x=\"10.0\" y=\"5.0\" width=\"49.517734375\" height=\"40\" stroke=\"black\" fill=\"white\" stroke-width=\"0\" /><text x=\"34.7588671875\" y=\"25.0\" dominant-baseline=\"middle\" text-anchor=\"middle\" font-size=\"14px\" font-family=\"Arial\">(0, 0): </text><rect x=\"10.0\" y=\"55.0\" width=\"49.517734375\" height=\"40\" stroke=\"black\" fill=\"white\" stroke-width=\"0\" /><text x=\"34.7588671875\" y=\"75.0\" dominant-baseline=\"middle\" text-anchor=\"middle\" font-size=\"14px\" font-family=\"Arial\">(0, 1): </text><rect x=\"10.0\" y=\"105.0\" width=\"49.517734375\" height=\"40\" stroke=\"black\" fill=\"white\" stroke-width=\"0\" /><text x=\"34.7588671875\" y=\"125.0\" dominant-baseline=\"middle\" text-anchor=\"middle\" font-size=\"14px\" font-family=\"Arial\">(0, 2): </text><rect x=\"10.0\" y=\"155.0\" width=\"49.517734375\" height=\"40\" stroke=\"black\" fill=\"white\" stroke-width=\"0\" /><text x=\"34.7588671875\" y=\"175.0\" dominant-baseline=\"middle\" text-anchor=\"middle\" font-size=\"14px\" font-family=\"Arial\">(0, 3): </text><rect x=\"10.0\" y=\"205.0\" width=\"49.517734375\" height=\"40\" stroke=\"black\" fill=\"white\" stroke-width=\"0\" /><text x=\"34.7588671875\" y=\"225.0\" dominant-baseline=\"middle\" text-anchor=\"middle\" font-size=\"14px\" font-family=\"Arial\">(0, 4): </text><rect x=\"79.517734375\" y=\"5.0\" width=\"40\" height=\"40\" stroke=\"black\" fill=\"white\" stroke-width=\"1\" /><text x=\"99.517734375\" y=\"25.0\" dominant-baseline=\"middle\" text-anchor=\"middle\" font-size=\"18px\" font-family=\"Arial\">H</text><rect x=\"79.517734375\" y=\"55.0\" width=\"40\" height=\"40\" stroke=\"black\" fill=\"white\" stroke-width=\"1\" /><text x=\"99.517734375\" y=\"75.0\" dominant-baseline=\"middle\" text-anchor=\"middle\" font-size=\"18px\" font-family=\"Arial\">H</text><rect x=\"79.517734375\" y=\"105.0\" width=\"40\" height=\"40\" stroke=\"black\" fill=\"white\" stroke-width=\"1\" /><text x=\"99.517734375\" y=\"125.0\" dominant-baseline=\"middle\" text-anchor=\"middle\" font-size=\"18px\" font-family=\"Arial\">H</text><rect x=\"79.517734375\" y=\"155.0\" width=\"40\" height=\"40\" stroke=\"black\" fill=\"white\" stroke-width=\"1\" /><text x=\"99.517734375\" y=\"175.0\" dominant-baseline=\"middle\" text-anchor=\"middle\" font-size=\"18px\" font-family=\"Arial\">H</text><rect x=\"79.517734375\" y=\"205.0\" width=\"40\" height=\"40\" stroke=\"black\" fill=\"white\" stroke-width=\"1\" /><text x=\"99.517734375\" y=\"225.0\" dominant-baseline=\"middle\" text-anchor=\"middle\" font-size=\"18px\" font-family=\"Arial\">H</text><rect x=\"139.517734375\" y=\"5.0\" width=\"118.07535156250003\" height=\"40\" stroke=\"black\" fill=\"white\" stroke-width=\"1\" /><text x=\"198.55541015625002\" y=\"25.0\" dominant-baseline=\"middle\" text-anchor=\"middle\" font-size=\"14px\" font-family=\"Arial\">ZZ</text><rect x=\"139.517734375\" y=\"55.0\" width=\"118.07535156250003\" height=\"40\" stroke=\"black\" fill=\"white\" stroke-width=\"1\" /><text x=\"198.55541015625002\" y=\"75.0\" dominant-baseline=\"middle\" text-anchor=\"middle\" font-size=\"14px\" font-family=\"Arial\">ZZ^(1.0*alpha)</text><rect x=\"277.59308593750006\" y=\"5.0\" width=\"118.07535156250003\" height=\"40\" stroke=\"black\" fill=\"white\" stroke-width=\"1\" /><text x=\"336.6307617187501\" y=\"25.0\" dominant-baseline=\"middle\" text-anchor=\"middle\" font-size=\"14px\" font-family=\"Arial\">ZZ</text><rect x=\"277.59308593750006\" y=\"105.0\" width=\"118.07535156250003\" height=\"40\" stroke=\"black\" fill=\"white\" stroke-width=\"1\" /><text x=\"336.6307617187501\" y=\"125.0\" dominant-baseline=\"middle\" text-anchor=\"middle\" font-size=\"14px\" font-family=\"Arial\">ZZ^(5.0*alpha)</text><rect x=\"415.6684375000001\" y=\"55.0\" width=\"118.07535156250003\" height=\"40\" stroke=\"black\" fill=\"white\" stroke-width=\"1\" /><text x=\"474.7061132812501\" y=\"75.0\" dominant-baseline=\"middle\" text-anchor=\"middle\" font-size=\"14px\" font-family=\"Arial\">ZZ</text><rect x=\"415.6684375000001\" y=\"105.0\" width=\"118.07535156250003\" height=\"40\" stroke=\"black\" fill=\"white\" stroke-width=\"1\" /><text x=\"474.7061132812501\" y=\"125.0\" dominant-baseline=\"middle\" text-anchor=\"middle\" font-size=\"14px\" font-family=\"Arial\">ZZ^(7.0*alpha)</text><rect x=\"553.7437890625001\" y=\"55.0\" width=\"118.07535156250003\" height=\"40\" stroke=\"black\" fill=\"white\" stroke-width=\"1\" /><text x=\"612.7814648437502\" y=\"75.0\" dominant-baseline=\"middle\" text-anchor=\"middle\" font-size=\"14px\" font-family=\"Arial\">ZZ</text><rect x=\"553.7437890625001\" y=\"155.0\" width=\"118.07535156250003\" height=\"40\" stroke=\"black\" fill=\"white\" stroke-width=\"1\" /><text x=\"612.7814648437502\" y=\"175.0\" dominant-baseline=\"middle\" text-anchor=\"middle\" font-size=\"14px\" font-family=\"Arial\">ZZ^(2.0*alpha)</text><rect x=\"691.819140625\" y=\"105.0\" width=\"118.07535156250003\" height=\"40\" stroke=\"black\" fill=\"white\" stroke-width=\"1\" /><text x=\"750.8568164062501\" y=\"125.0\" dominant-baseline=\"middle\" text-anchor=\"middle\" font-size=\"14px\" font-family=\"Arial\">ZZ</text><rect x=\"691.819140625\" y=\"155.0\" width=\"118.07535156250003\" height=\"40\" stroke=\"black\" fill=\"white\" stroke-width=\"1\" /><text x=\"750.8568164062501\" y=\"175.0\" dominant-baseline=\"middle\" text-anchor=\"middle\" font-size=\"14px\" font-family=\"Arial\">ZZ^(4.0*alpha)</text><rect x=\"829.8944921875002\" y=\"155.0\" width=\"118.07535156250003\" height=\"40\" stroke=\"black\" fill=\"white\" stroke-width=\"1\" /><text x=\"888.9321679687503\" y=\"175.0\" dominant-baseline=\"middle\" text-anchor=\"middle\" font-size=\"14px\" font-family=\"Arial\">ZZ</text><rect x=\"829.8944921875002\" y=\"205.0\" width=\"118.07535156250003\" height=\"40\" stroke=\"black\" fill=\"white\" stroke-width=\"1\" /><text x=\"888.9321679687503\" y=\"225.0\" dominant-baseline=\"middle\" text-anchor=\"middle\" font-size=\"14px\" font-family=\"Arial\">ZZ^(3.0*alpha)</text><rect x=\"967.9698437500002\" y=\"5.0\" width=\"61.201171875\" height=\"40\" stroke=\"black\" fill=\"white\" stroke-width=\"1\" /><text x=\"998.5704296875002\" y=\"25.0\" dominant-baseline=\"middle\" text-anchor=\"middle\" font-size=\"14px\" font-family=\"Arial\">X^beta</text><rect x=\"967.9698437500002\" y=\"55.0\" width=\"61.201171875\" height=\"40\" stroke=\"black\" fill=\"white\" stroke-width=\"1\" /><text x=\"998.5704296875002\" y=\"75.0\" dominant-baseline=\"middle\" text-anchor=\"middle\" font-size=\"14px\" font-family=\"Arial\">X^beta</text><rect x=\"967.9698437500002\" y=\"105.0\" width=\"61.201171875\" height=\"40\" stroke=\"black\" fill=\"white\" stroke-width=\"1\" /><text x=\"998.5704296875002\" y=\"125.0\" dominant-baseline=\"middle\" text-anchor=\"middle\" font-size=\"14px\" font-family=\"Arial\">X^beta</text><rect x=\"967.9698437500002\" y=\"155.0\" width=\"61.201171875\" height=\"40\" stroke=\"black\" fill=\"white\" stroke-width=\"1\" /><text x=\"998.5704296875002\" y=\"175.0\" dominant-baseline=\"middle\" text-anchor=\"middle\" font-size=\"14px\" font-family=\"Arial\">X^beta</text><rect x=\"967.9698437500002\" y=\"205.0\" width=\"61.201171875\" height=\"40\" stroke=\"black\" fill=\"white\" stroke-width=\"1\" /><text x=\"998.5704296875002\" y=\"225.0\" dominant-baseline=\"middle\" text-anchor=\"middle\" font-size=\"14px\" font-family=\"Arial\">X^beta</text><rect x=\"1049.171015625\" y=\"5.0\" width=\"40\" height=\"40\" stroke=\"black\" fill=\"white\" stroke-width=\"1\" /><text x=\"1069.171015625\" y=\"25.0\" dominant-baseline=\"middle\" text-anchor=\"middle\" font-size=\"18px\" font-family=\"Arial\">M</text><rect x=\"1049.171015625\" y=\"55.0\" width=\"40\" height=\"40\" stroke=\"black\" fill=\"white\" stroke-width=\"1\" /><text x=\"1069.171015625\" y=\"75.0\" dominant-baseline=\"middle\" text-anchor=\"middle\" font-size=\"18px\" font-family=\"Arial\">M</text><rect x=\"1049.171015625\" y=\"105.0\" width=\"40\" height=\"40\" stroke=\"black\" fill=\"white\" stroke-width=\"1\" /><text x=\"1069.171015625\" y=\"125.0\" dominant-baseline=\"middle\" text-anchor=\"middle\" font-size=\"18px\" font-family=\"Arial\">M</text><rect x=\"1049.171015625\" y=\"155.0\" width=\"40\" height=\"40\" stroke=\"black\" fill=\"white\" stroke-width=\"1\" /><text x=\"1069.171015625\" y=\"175.0\" dominant-baseline=\"middle\" text-anchor=\"middle\" font-size=\"18px\" font-family=\"Arial\">M</text><rect x=\"1049.171015625\" y=\"205.0\" width=\"40\" height=\"40\" stroke=\"black\" fill=\"white\" stroke-width=\"1\" /><text x=\"1069.171015625\" y=\"225.0\" dominant-baseline=\"middle\" text-anchor=\"middle\" font-size=\"18px\" font-family=\"Arial\">M</text></svg>"
          },
          "metadata": {
            "tags": []
          },
          "execution_count": 46
        }
      ]
    },
    {
      "cell_type": "markdown",
      "metadata": {
        "id": "mWX4e9CZn4N1"
      },
      "source": [
        "**Calculate the expected cost value for a specific parameterized QAOA circuit**"
      ]
    },
    {
      "cell_type": "code",
      "metadata": {
        "id": "4PDPUs9lT6Zi"
      },
      "source": [
        "def estimate_cost(graph, samples):\r\n",
        "    \"\"\"Estimate the cost function of the QAOA on the given graph using the\r\n",
        "    provided computational basis bitstrings.\"\"\"\r\n",
        "    cost_value = 0.0\r\n",
        "\r\n",
        "    # Loop over edge pairs and compute contribution.\r\n",
        "    for u, v, w in graph.edges(data=True):\r\n",
        "      u_samples = samples[str(u)]\r\n",
        "      v_samples = samples[str(v)]\r\n",
        "\r\n",
        "      # Determine if it was a +1 or -1 eigenvalue.\r\n",
        "      u_signs = (-1)**u_samples\r\n",
        "      v_signs = (-1)**v_samples\r\n",
        "      term_signs = u_signs * v_signs\r\n",
        "\r\n",
        "      # Add scaled term to total cost.\r\n",
        "      term_val = np.mean(term_signs) * w['weight']\r\n",
        "      cost_value += term_val\r\n",
        "\r\n",
        "    return -cost_value"
      ],
      "execution_count": 47,
      "outputs": []
    },
    {
      "cell_type": "markdown",
      "metadata": {
        "id": "L8QI_McKoESl"
      },
      "source": [
        "**Testing expectation values for the circuit**"
      ]
    },
    {
      "cell_type": "code",
      "metadata": {
        "colab": {
          "base_uri": "https://localhost:8080/"
        },
        "id": "VA6-SHvGUEpN",
        "outputId": "4b293a6b-bce6-4bfa-e261-14c43ae26cf3"
      },
      "source": [
        "alpha_value = np.pi / 4\r\n",
        "beta_value = np.pi / 2\r\n",
        "sim = cirq.Simulator()\r\n",
        "\r\n",
        "sample_results = sim.sample(\r\n",
        "    qaoa_circuit, \r\n",
        "    params={alpha: alpha_value, beta: beta_value}, \r\n",
        "    repetitions=20_000\r\n",
        ")\r\n",
        "print(f'Alpha = {round(alpha_value, 3)} Beta = {round(beta_value, 3)}')\r\n",
        "print(f'Estimated cost: {estimate_cost(G, sample_results)}')"
      ],
      "execution_count": 48,
      "outputs": [
        {
          "output_type": "stream",
          "text": [
            "Alpha = 0.785 Beta = 1.571\n",
            "Estimated cost: 0.32899999999999974\n"
          ],
          "name": "stdout"
        }
      ]
    },
    {
      "cell_type": "markdown",
      "metadata": {
        "id": "GTaDE8PQoQyR"
      },
      "source": [
        "**Optimizing the search space for two paramters, alpha and beta**"
      ]
    },
    {
      "cell_type": "code",
      "metadata": {
        "id": "EcZwwgmsUQz1"
      },
      "source": [
        "# Set the grid size = number of points in the interval [0, 2π).\r\n",
        "grid_size = 5\r\n",
        "\r\n",
        "exp_values = np.empty((grid_size, grid_size))\r\n",
        "par_values = np.empty((grid_size, grid_size, 2))\r\n",
        "\r\n",
        "for i, alpha_value in enumerate(np.linspace(0, 2 * np.pi, grid_size)):\r\n",
        "  for j, beta_value in enumerate(np.linspace(0, 2 * np.pi, grid_size)):\r\n",
        "    samples = sim.sample(\r\n",
        "        qaoa_circuit,\r\n",
        "        params={alpha: alpha_value, beta: beta_value},\r\n",
        "        repetitions=20000\r\n",
        "    )\r\n",
        "    exp_values[i][j] = estimate_cost(G, samples)\r\n",
        "    par_values[i][j] = alpha_value, beta_value"
      ],
      "execution_count": null,
      "outputs": []
    },
    {
      "cell_type": "markdown",
      "metadata": {
        "id": "lghMiZmioc9i"
      },
      "source": [
        "**Utility Function to display Graph partitions**"
      ]
    },
    {
      "cell_type": "code",
      "metadata": {
        "id": "MlQ9nHo1Uqxc"
      },
      "source": [
        "def output_cut(S_partition):\r\n",
        "  \"\"\"Plot and output the graph cut information.\"\"\"\r\n",
        "\r\n",
        "  # Generate the colors.\r\n",
        "  coloring = []\r\n",
        "  for node in G:\r\n",
        "    if node in S_partition:\r\n",
        "      coloring.append('blue')\r\n",
        "    else:\r\n",
        "      coloring.append('red')\r\n",
        "\r\n",
        "  # Get the weights\r\n",
        "  edges = G.edges(data=True)\r\n",
        "  weights = [w['weight'] for (u,v, w) in edges]\r\n",
        "\r\n",
        "  nx.draw_circular(\r\n",
        "      G,\r\n",
        "      node_color=coloring,\r\n",
        "      node_size=1000,\r\n",
        "      with_labels=True,\r\n",
        "      width=weights)\r\n",
        "  plt.show()\r\n",
        "  size = nx.cut_size(G, S_partition, weight='weight')\r\n",
        "  print(f'Cut size: {size}')"
      ],
      "execution_count": null,
      "outputs": []
    },
    {
      "cell_type": "markdown",
      "metadata": {
        "id": "pyyduBgkokET"
      },
      "source": [
        "**Setting learned optimal parameters**"
      ]
    },
    {
      "cell_type": "code",
      "metadata": {
        "colab": {
          "base_uri": "https://localhost:8080/"
        },
        "id": "HpzKPjzhUyi3",
        "outputId": "abf28b1b-e6f8-44ec-a972-11dcd3dc1a98"
      },
      "source": [
        "best_exp_index = np.unravel_index(np.argmax(exp_values), exp_values.shape)\r\n",
        "best_parameters = par_values[best_exp_index]\r\n",
        "print(f'Best control parameters: {best_parameters}')"
      ],
      "execution_count": null,
      "outputs": [
        {
          "output_type": "stream",
          "text": [
            "Best control parameters: [3.14159265 1.57079633]\n"
          ],
          "name": "stdout"
        }
      ]
    },
    {
      "cell_type": "markdown",
      "metadata": {
        "id": "e0-avz--ov6s"
      },
      "source": [
        "**Execute QAOA to find approximate solution to the max cut for Sample Graph**"
      ]
    },
    {
      "cell_type": "code",
      "metadata": {
        "id": "p6_tOXupU23J"
      },
      "source": [
        "# Number of candidate cuts to sample.\r\n",
        "num_cuts = 100\r\n",
        "candidate_cuts = sim.sample(\r\n",
        "    qaoa_circuit,\r\n",
        "    params={alpha: best_parameters[0], beta: best_parameters[1]},\r\n",
        "    repetitions=num_cuts\r\n",
        ")\r\n",
        "\r\n",
        "# Variables to store best cut partitions and cut size.\r\n",
        "best_qaoa_S_partition = set()\r\n",
        "best_qaoa_T_partition = set()\r\n",
        "best_qaoa_cut_size = -np.inf\r\n",
        "\r\n",
        "# Analyze each candidate cut.\r\n",
        "for i in range(num_cuts):\r\n",
        "  candidate = candidate_cuts.iloc[i]\r\n",
        "  one_qubits = set(candidate[candidate==1].index)\r\n",
        "  S_partition = set()\r\n",
        "  T_partition = set()\r\n",
        "  for node in G:\r\n",
        "    if str(node) in one_qubits:\r\n",
        "      # If a one was measured add node to S partition.\r\n",
        "      S_partition.add(node)\r\n",
        "    else:\r\n",
        "      # Otherwise a zero was measured so add to T partition.\r\n",
        "      T_partition.add(node)\r\n",
        "\r\n",
        "  cut_size = nx.cut_size(\r\n",
        "      G, S_partition, T_partition, weight='weight')\r\n",
        "\r\n",
        "  # If you found a better cut update best_qaoa_cut variables.\r\n",
        "  if cut_size > best_qaoa_cut_size:\r\n",
        "    best_qaoa_cut_size = cut_size\r\n",
        "    best_qaoa_S_partition = S_partition\r\n",
        "    best_qaoa_T_partition = T_partition"
      ],
      "execution_count": null,
      "outputs": []
    },
    {
      "cell_type": "markdown",
      "metadata": {
        "id": "HLjny6Djo27X"
      },
      "source": [
        "**Randomnly Generate Solutions for the maxcut and pick the best one out of 100**\r\n",
        "\r\n",
        "We can use this to compare the results with the QAOA."
      ]
    },
    {
      "cell_type": "code",
      "metadata": {
        "id": "FpEv2RniU8Mn"
      },
      "source": [
        "\r\n",
        "best_random_S_partition = set()\r\n",
        "best_random_T_partition = set()\r\n",
        "best_random_cut_size = -9999\r\n",
        "\r\n",
        "# Randomly build candidate sets.\r\n",
        "for i in range(num_cuts):\r\n",
        "  S_partition = set()\r\n",
        "  T_partition = set()\r\n",
        "  for node in G:\r\n",
        "    if random.random() > 0.5:\r\n",
        "      # If we flip heads add to S.\r\n",
        "      S_partition.add(node)\r\n",
        "    else:\r\n",
        "      # Otherwise add to T.\r\n",
        "      T_partition.add(node)\r\n",
        "\r\n",
        "  cut_size = nx.cut_size(\r\n",
        "      G, S_partition, T_partition, weight='weight')\r\n",
        "\r\n",
        "  # If you found a better cut update best_random_cut variables.\r\n",
        "  if cut_size > best_random_cut_size:\r\n",
        "    best_random_cut_size = cut_size\r\n",
        "    best_random_S_partition = S_partition\r\n",
        "    best_random_T_partition = T_partition"
      ],
      "execution_count": null,
      "outputs": []
    },
    {
      "cell_type": "markdown",
      "metadata": {
        "id": "Lktn7UNwpDhS"
      },
      "source": [
        "**The QAOA produces the optimal max cut**\r\n",
        "\r\n",
        "Max cut value for QAOA result is 19.0\r\n",
        "This matches the answer produced by our brute-force solution as well as the randomized solution."
      ]
    },
    {
      "cell_type": "code",
      "metadata": {
        "colab": {
          "base_uri": "https://localhost:8080/",
          "height": 723
        },
        "id": "fJI121NPVAy4",
        "outputId": "91caf412-67a0-462f-b253-01b8e6fe24b1"
      },
      "source": [
        "print('-----QAOA-----')\r\n",
        "output_cut(best_qaoa_S_partition)\r\n",
        "\r\n",
        "print('\\n\\n-----RANDOM-----')\r\n",
        "output_cut(best_random_S_partition)"
      ],
      "execution_count": null,
      "outputs": [
        {
          "output_type": "stream",
          "text": [
            "-----QAOA-----\n"
          ],
          "name": "stdout"
        },
        {
          "output_type": "display_data",
          "data": {
            "image/png": "[encoded data removed]",
            "text/plain": [
              "<Figure size 432x288 with 1 Axes>"
            ]
          },
          "metadata": {
            "tags": []
          }
        },
        {
          "output_type": "stream",
          "text": [
            "Cut size: 19.0\n",
            "\n",
            "\n",
            "-----RANDOM-----\n"
          ],
          "name": "stdout"
        },
        {
          "output_type": "display_data",
          "data": {
            "image/png": "[encoded data removed]",
            "text/plain": [
              "<Figure size 432x288 with 1 Axes>"
            ]
          },
          "metadata": {
            "tags": []
          }
        },
        {
          "output_type": "stream",
          "text": [
            "Cut size: 19.0\n"
          ],
          "name": "stdout"
        }
      ]
    }
  ]
}